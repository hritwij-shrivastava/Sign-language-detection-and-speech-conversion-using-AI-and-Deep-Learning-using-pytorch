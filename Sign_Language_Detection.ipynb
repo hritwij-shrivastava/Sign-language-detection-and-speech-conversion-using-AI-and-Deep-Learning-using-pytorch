{
  "nbformat": 4,
  "nbformat_minor": 0,
  "metadata": {
    "colab": {
      "provenance": [],
      "collapsed_sections": []
    },
    "kernelspec": {
      "name": "python3",
      "display_name": "Python 3"
    },
    "language_info": {
      "name": "python"
    },
    "accelerator": "GPU",
    "gpuClass": "standard"
  },
  "cells": [
    {
      "cell_type": "markdown",
      "source": [
        "##Import Libraries"
      ],
      "metadata": {
        "id": "USlONnAcKzCE"
      }
    },
    {
      "cell_type": "code",
      "execution_count": 52,
      "metadata": {
        "id": "etJ7czTn_rMo"
      },
      "outputs": [],
      "source": [
        "import pickle\n",
        "import gzip\n",
        "import numpy as np\n",
        "import matplotlib.pyplot as plt\n",
        "import torch\n",
        "import torchvision\n",
        "from torch.utils.data import Dataset\n",
        "from torch.utils.data import DataLoader\n",
        "from torch.utils.data import random_split\n",
        "from torchvision import transforms\n",
        "import torch.nn as nn\n",
        "import torch.nn.functional as F\n",
        "from tqdm import tqdm"
      ]
    },
    {
      "cell_type": "markdown",
      "source": [
        "##Load Dataset"
      ],
      "metadata": {
        "id": "mg-MYjWjK3b_"
      }
    },
    {
      "cell_type": "code",
      "source": [
        "def read_pickle_data(file_name):\n",
        "    f = gzip.open(file_name, 'rb')\n",
        "    data = pickle.load(f, encoding='latin1')\n",
        "    f.close()\n",
        "    return data"
      ],
      "metadata": {
        "id": "XPgTz7POADhN"
      },
      "execution_count": 53,
      "outputs": []
    },
    {
      "cell_type": "code",
      "source": [
        "data_set = read_pickle_data('/content/drive/MyDrive/Colab Notebooks/ML Projects/Sign Language Detection/asl_alphabet.pkl.gz')"
      ],
      "metadata": {
        "id": "ZjwCfaWgAO70"
      },
      "execution_count": 54,
      "outputs": []
    },
    {
      "cell_type": "code",
      "source": [
        "type(data_set)"
      ],
      "metadata": {
        "colab": {
          "base_uri": "https://localhost:8080/"
        },
        "id": "J2aYrnGCQkOf",
        "outputId": "bbcb7bff-4fe3-4780-8ef0-629b87edde81"
      },
      "execution_count": 55,
      "outputs": [
        {
          "output_type": "execute_result",
          "data": {
            "text/plain": [
              "list"
            ]
          },
          "metadata": {},
          "execution_count": 55
        }
      ]
    },
    {
      "cell_type": "code",
      "source": [
        "len(data_set)"
      ],
      "metadata": {
        "colab": {
          "base_uri": "https://localhost:8080/"
        },
        "id": "xazBKUe8DsoD",
        "outputId": "987fa0c6-caf9-49b4-91fd-a888f3097cbc"
      },
      "execution_count": 56,
      "outputs": [
        {
          "output_type": "execute_result",
          "data": {
            "text/plain": [
              "87000"
            ]
          },
          "metadata": {},
          "execution_count": 56
        }
      ]
    },
    {
      "cell_type": "markdown",
      "source": [
        "##Custom Dataloader"
      ],
      "metadata": {
        "id": "aqIYF1DbK8Br"
      }
    },
    {
      "cell_type": "code",
      "source": [
        "class CustomDataset(Dataset):\n",
        "\n",
        "    def __init__(self, X_Train, Y_Train, transform=None):\n",
        "        self.X_Train = X_Train\n",
        "        self.Y_Train = Y_Train\n",
        "        self.transform = transform\n",
        "\n",
        "    def __len__(self):\n",
        "        return len(self.X_Train)\n",
        "\n",
        "    def __getitem__(self, idx):\n",
        "      \n",
        "      # if torch.is_tensor(idx):\n",
        "      #   idx = idx.tolist()\n",
        "      x = torch.tensor(self.X_Train[idx], dtype=torch.float32)\n",
        "      y = torch.tensor(self.Y_Train[idx], dtype=torch.long)\n",
        "\n",
        "      if self.transform:\n",
        "          x = self.transform(x)\n",
        "          y = self.transform(y)\n",
        "\n",
        "      return x, y\n",
        "      # return idx"
      ],
      "metadata": {
        "id": "afy0F1I7HSs7"
      },
      "execution_count": 57,
      "outputs": []
    },
    {
      "cell_type": "code",
      "source": [
        "X_train = [] \n",
        "y_train = []\n",
        "\n",
        "X_val = []\n",
        "y_val = []\n",
        "\n",
        "X_test = []\n",
        "y_test = []\n",
        "\n",
        "\n",
        "train_ds, val_ds, test_ds = random_split(data_set,[69600,8700,8700])\n",
        "# train_ds, val_ds, test_ds = random_split(data_set,[24000,3000,3000])\n",
        "for features,label in train_ds:\n",
        "    X_train.append(features)\n",
        "    y_train.append(label)\n",
        "\n",
        "for features,label in val_ds:\n",
        "    X_val.append(features)\n",
        "    y_val.append(label)\n",
        "\n",
        "for features,label in test_ds:\n",
        "    X_test.append(features)\n",
        "    y_test.append(label)"
      ],
      "metadata": {
        "id": "fH8k9rDnLBSh"
      },
      "execution_count": 58,
      "outputs": []
    },
    {
      "cell_type": "code",
      "source": [
        "batch_size = 128"
      ],
      "metadata": {
        "id": "B0njWOw6CBvV"
      },
      "execution_count": 59,
      "outputs": []
    },
    {
      "cell_type": "code",
      "source": [
        "tf = transforms.Compose([\n",
        "    transforms.ToPILImage(),\n",
        "    transforms.ToTensor()\n",
        "])"
      ],
      "metadata": {
        "id": "CZ00wxPLKPtB"
      },
      "execution_count": 60,
      "outputs": []
    },
    {
      "cell_type": "code",
      "source": [
        "dataset_train = CustomDataset(X_train, y_train, transform=None)\n",
        "\n",
        "ds_train = DataLoader(dataset_train, batch_size=batch_size, shuffle=False, num_workers=0)"
      ],
      "metadata": {
        "id": "4DF5SjPhJ3_e"
      },
      "execution_count": 61,
      "outputs": []
    },
    {
      "cell_type": "code",
      "source": [
        "dataset_val = CustomDataset(X_val, y_val, transform=None)\n",
        "\n",
        "ds_val = DataLoader(dataset_val, batch_size=batch_size, shuffle=False, num_workers=0)"
      ],
      "metadata": {
        "id": "St2rrDDomOVB"
      },
      "execution_count": 62,
      "outputs": []
    },
    {
      "cell_type": "code",
      "source": [
        "dataset_test = CustomDataset(X_test, y_test, transform=None)\n",
        "\n",
        "ds_test = DataLoader(dataset_test, batch_size=batch_size, shuffle=False, num_workers=0)"
      ],
      "metadata": {
        "id": "nyT0tYK1mOG5"
      },
      "execution_count": 63,
      "outputs": []
    },
    {
      "cell_type": "code",
      "source": [
        "for i, (images, labels) in enumerate(ds_train):\n",
        "  if(i>0):\n",
        "    break\n",
        "  plt.imshow(images[1][0])\n",
        "  print(\"Number = \",int(labels[0]))\n",
        "  print(images[1].shape)"
      ],
      "metadata": {
        "colab": {
          "base_uri": "https://localhost:8080/",
          "height": 303
        },
        "id": "n1haAZX4LQKE",
        "outputId": "eed11298-95e6-4dbb-8da1-8665fda5e1cd"
      },
      "execution_count": 64,
      "outputs": [
        {
          "output_type": "stream",
          "name": "stdout",
          "text": [
            "Number =  7\n",
            "torch.Size([1, 100, 100])\n"
          ]
        },
        {
          "output_type": "display_data",
          "data": {
            "text/plain": [
              "<Figure size 432x288 with 1 Axes>"
            ],
            "image/png": "[encoded data removed]"
          },
          "metadata": {
            "needs_background": "light"
          }
        }
      ]
    },
    {
      "cell_type": "markdown",
      "source": [
        "##Create CNN Model"
      ],
      "metadata": {
        "id": "OfgTYsIvLRdT"
      }
    },
    {
      "cell_type": "code",
      "source": [
        "\"\"\"\n",
        "image pixels = 100*100\n",
        "after padding = (100+4) * (100+4)   = 104*104\n",
        "after conv =  (104-5+1) * (104-5+1)  * 6  = 100*100   * 6  \n",
        "after pooling = (100/2)  * (100/2) * 6    = 50*50   * 6\n",
        "\n",
        "after 2d conv = (50-5+1)  * (50-5+1)  * 16    =   46*46*16\n",
        "after 2nd pooling  = (46/2) * (46/2)  * 16    =   23*23*16\n",
        "\n",
        "after 3rd pooling  = (23-1) * (23-1)  * 16    =   22*22*16\n",
        "\n",
        "\n",
        "after flattening  =  7744 \n",
        "\"\"\""
      ],
      "metadata": {
        "id": "5r4WQPZM4gvv",
        "colab": {
          "base_uri": "https://localhost:8080/",
          "height": 70
        },
        "outputId": "98d51012-d70a-4595-e469-12a0a9223792"
      },
      "execution_count": 65,
      "outputs": [
        {
          "output_type": "execute_result",
          "data": {
            "text/plain": [
              "'\\nimage pixels = 100*100\\nafter padding = (100+4) * (100+4)   = 104*104\\nafter conv =  (104-5+1) * (104-5+1)  * 6  = 100*100   * 6  \\nafter pooling = (100/2)  * (100/2) * 6    = 50*50   * 6\\n\\nafter 2d conv = (50-5+1)  * (50-5+1)  * 16    =   46*46*16\\nafter 2nd pooling  = (46/2) * (46/2)  * 16    =   23*23*16\\n\\nafter 3rd pooling  = (23-1) * (23-1)  * 16    =   22*22*16\\n\\n\\nafter flattening  =  7744 \\n'"
            ],
            "application/vnd.google.colaboratory.intrinsic+json": {
              "type": "string"
            }
          },
          "metadata": {},
          "execution_count": 65
        }
      ]
    },
    {
      "cell_type": "code",
      "source": [
        "# check device\n",
        "device = 'cuda' if torch.cuda.is_available() else 'cpu'"
      ],
      "metadata": {
        "id": "6YPZjHgT7IBx"
      },
      "execution_count": 66,
      "outputs": []
    },
    {
      "cell_type": "code",
      "source": [
        "class CNN(nn.Module):\n",
        "  def __init__(self):\n",
        "    super().__init__()\n",
        "    self.model = nn.Sequential(\n",
        "                          # First Convolution Layer\n",
        "                          nn.Conv2d(in_channels = 1, out_channels = 6, kernel_size = 5, padding = 2),       #Padding will add extra pixels like photo frame\n",
        "                          nn.MaxPool2d(kernel_size = 2, stride = 2),\n",
        "                          nn.ReLU(),\n",
        "\n",
        "                          # Second Convolution Layer \n",
        "                          nn.Conv2d(in_channels = 6, out_channels = 16, kernel_size = 5, padding = 0),\n",
        "                          nn.MaxPool2d(kernel_size = 2, stride = 2),\n",
        "                          nn.ReLU(),\n",
        "\n",
        "                          nn.Dropout(p = 0.2),\n",
        "                          nn.MaxPool2d(kernel_size = 2, stride = 1),\n",
        "\n",
        "                          nn.Flatten(),\n",
        "\n",
        "                          nn.Linear(in_features = 7744, out_features = 120),\n",
        "                          nn.ReLU(),\n",
        "                          nn.Linear(in_features = 120, out_features = 84),\n",
        "                          nn.ReLU(),\n",
        "                          nn.Linear(in_features = 84, out_features = 29),\n",
        "                          )\n",
        "\n",
        "  def forward(self, batch):\n",
        "    return self.model(batch)\n"
      ],
      "metadata": {
        "id": "o0ARiSPdLWCn"
      },
      "execution_count": 67,
      "outputs": []
    },
    {
      "cell_type": "code",
      "source": [
        "model = CNN()\n",
        "model.to(device)"
      ],
      "metadata": {
        "id": "wkC_DJjG9XCK",
        "colab": {
          "base_uri": "https://localhost:8080/"
        },
        "outputId": "7595e322-4a63-47ab-e0c7-844eb8f3d8ba"
      },
      "execution_count": 68,
      "outputs": [
        {
          "output_type": "execute_result",
          "data": {
            "text/plain": [
              "CNN(\n",
              "  (model): Sequential(\n",
              "    (0): Conv2d(1, 6, kernel_size=(5, 5), stride=(1, 1), padding=(2, 2))\n",
              "    (1): MaxPool2d(kernel_size=2, stride=2, padding=0, dilation=1, ceil_mode=False)\n",
              "    (2): ReLU()\n",
              "    (3): Conv2d(6, 16, kernel_size=(5, 5), stride=(1, 1))\n",
              "    (4): MaxPool2d(kernel_size=2, stride=2, padding=0, dilation=1, ceil_mode=False)\n",
              "    (5): ReLU()\n",
              "    (6): Dropout(p=0.2, inplace=False)\n",
              "    (7): MaxPool2d(kernel_size=2, stride=1, padding=0, dilation=1, ceil_mode=False)\n",
              "    (8): Flatten(start_dim=1, end_dim=-1)\n",
              "    (9): Linear(in_features=7744, out_features=120, bias=True)\n",
              "    (10): ReLU()\n",
              "    (11): Linear(in_features=120, out_features=84, bias=True)\n",
              "    (12): ReLU()\n",
              "    (13): Linear(in_features=84, out_features=29, bias=True)\n",
              "  )\n",
              ")"
            ]
          },
          "metadata": {},
          "execution_count": 68
        }
      ]
    },
    {
      "cell_type": "code",
      "source": [
        "def train_model(train_data, val_data, model, lr=0.01, momentum=0.9, nesterov=False, n_epochs=30):\n",
        "  \"\"\"Train a model for N epochs given data and hyper-params.\"\"\"\n",
        "  # We optimize with SGD\n",
        "  # optimizer = torch.optim.SGD(model.parameters(), lr=lr, momentum=momentum, nesterov=nesterov)\n",
        "  optimizer = torch.optim.Adam(model.parameters(), lr=lr)\n",
        "\n",
        "  for epoch in range(1, 11):\n",
        "      print(\"-------------\\nEpoch {}:\\n\".format(epoch))\n",
        "\n",
        "\n",
        "      # Run **training***\n",
        "      loss, acc = run_epoch(train_data, model.train(), optimizer)\n",
        "      print('Train loss: {:.6f} | Train accuracy: {:.6f}'.format(loss, acc))\n",
        "\n",
        "      # Run **validation**\n",
        "      val_loss, val_acc = run_epoch(val_data, model.eval(), optimizer)\n",
        "      print('Val loss:   {:.6f} | Val accuracy:   {:.6f}'.format(val_loss, val_acc))\n",
        "      # Save model\n",
        "      torch.save(model, 'mnist_model_fully_connected.pt')\n",
        "  return val_acc"
      ],
      "metadata": {
        "id": "oaJE-0z-9iXs"
      },
      "execution_count": 75,
      "outputs": []
    },
    {
      "cell_type": "code",
      "source": [
        "def run_epoch(data, model, optimizer):\n",
        "    \"\"\"Train model for one pass of train data, and return loss, acccuracy\"\"\"\n",
        "    # Gather losses\n",
        "    losses = []\n",
        "    batch_accuracies = []\n",
        "\n",
        "    # If model is in train mode, use optimizer.\n",
        "    is_training = model.training\n",
        "\n",
        "    # Iterate through batches\n",
        "    for batch in tqdm(data):\n",
        "        # Grab x and y\n",
        "        \n",
        "        x, y = batch\n",
        "        x, y = x.to(device), y.to(device)\n",
        "        \n",
        "        # Get output predictions\n",
        "        out = model(x)\n",
        "\n",
        "        # Predict and store accuracy\n",
        "        predictions = torch.argmax(out, dim=1)\n",
        "        batch_accuracies.append(compute_accuracy(predictions, y))\n",
        "\n",
        "        # Compute loss\n",
        "        # loss = F.cross_entropy(out, y)\n",
        "        # losses.append(loss.data.item())\n",
        "\n",
        "        cec = nn.CrossEntropyLoss()\n",
        "        loss = cec(out,y)\n",
        "        losses.append(loss.data.cpu())\n",
        "        \n",
        "\n",
        "        # If training, do an update.\n",
        "        if is_training:\n",
        "            optimizer.zero_grad()\n",
        "            loss.backward()\n",
        "            optimizer.step()\n",
        "\n",
        "    # Calculate epoch level scores\n",
        "    avg_loss = np.mean(losses)\n",
        "    avg_accuracy = np.mean(batch_accuracies)\n",
        "    return avg_loss, avg_accuracy"
      ],
      "metadata": {
        "id": "SaLqYUbj9p7J"
      },
      "execution_count": 93,
      "outputs": []
    },
    {
      "cell_type": "code",
      "source": [
        "def compute_accuracy(predictions, y):\n",
        "    \"\"\"Computes the accuracy of predictions against the gold labels, y.\"\"\"\n",
        "    return np.mean(np.equal(predictions.cpu().numpy(), y.cpu().numpy()))"
      ],
      "metadata": {
        "id": "-GfJGfjF96EN"
      },
      "execution_count": 71,
      "outputs": []
    },
    {
      "cell_type": "code",
      "source": [
        "lr=0.1\n",
        "momentum=0\n",
        "train_model(ds_train, ds_val, model, lr=lr, momentum=momentum)"
      ],
      "metadata": {
        "colab": {
          "base_uri": "https://localhost:8080/"
        },
        "id": "hmuwkDWI98yo",
        "outputId": "7675fdae-ed1c-44d2-ff4d-ffb4de0c2490"
      },
      "execution_count": 94,
      "outputs": [
        {
          "output_type": "stream",
          "name": "stdout",
          "text": [
            "-------------\n",
            "Epoch 1:\n",
            "\n"
          ]
        },
        {
          "output_type": "stream",
          "name": "stderr",
          "text": [
            "100%|██████████| 544/544 [00:06<00:00, 83.19it/s]\n"
          ]
        },
        {
          "output_type": "stream",
          "name": "stdout",
          "text": [
            "Train loss: 3.378562 | Train accuracy: 0.035190\n"
          ]
        },
        {
          "output_type": "stream",
          "name": "stderr",
          "text": [
            "100%|██████████| 68/68 [00:00<00:00, 128.57it/s]\n"
          ]
        },
        {
          "output_type": "stream",
          "name": "stdout",
          "text": [
            "Val loss:   3.376263 | Val accuracy:   0.039896\n",
            "-------------\n",
            "Epoch 2:\n",
            "\n"
          ]
        },
        {
          "output_type": "stream",
          "name": "stderr",
          "text": [
            "100%|██████████| 544/544 [00:06<00:00, 87.37it/s]\n"
          ]
        },
        {
          "output_type": "stream",
          "name": "stdout",
          "text": [
            "Train loss: 3.378265 | Train accuracy: 0.034773\n"
          ]
        },
        {
          "output_type": "stream",
          "name": "stderr",
          "text": [
            "100%|██████████| 68/68 [00:00<00:00, 133.03it/s]\n"
          ]
        },
        {
          "output_type": "stream",
          "name": "stdout",
          "text": [
            "Val loss:   3.376261 | Val accuracy:   0.039896\n",
            "-------------\n",
            "Epoch 3:\n",
            "\n"
          ]
        },
        {
          "output_type": "stream",
          "name": "stderr",
          "text": [
            "100%|██████████| 544/544 [00:06<00:00, 88.09it/s]\n"
          ]
        },
        {
          "output_type": "stream",
          "name": "stdout",
          "text": [
            "Train loss: 3.378267 | Train accuracy: 0.034773\n"
          ]
        },
        {
          "output_type": "stream",
          "name": "stderr",
          "text": [
            "100%|██████████| 68/68 [00:00<00:00, 127.94it/s]\n"
          ]
        },
        {
          "output_type": "stream",
          "name": "stdout",
          "text": [
            "Val loss:   3.376261 | Val accuracy:   0.039896\n",
            "-------------\n",
            "Epoch 4:\n",
            "\n"
          ]
        },
        {
          "output_type": "stream",
          "name": "stderr",
          "text": [
            "100%|██████████| 544/544 [00:06<00:00, 88.35it/s]\n"
          ]
        },
        {
          "output_type": "stream",
          "name": "stdout",
          "text": [
            "Train loss: 3.378267 | Train accuracy: 0.034802\n"
          ]
        },
        {
          "output_type": "stream",
          "name": "stderr",
          "text": [
            "100%|██████████| 68/68 [00:00<00:00, 132.63it/s]\n"
          ]
        },
        {
          "output_type": "stream",
          "name": "stdout",
          "text": [
            "Val loss:   3.376261 | Val accuracy:   0.039896\n",
            "-------------\n",
            "Epoch 5:\n",
            "\n"
          ]
        },
        {
          "output_type": "stream",
          "name": "stderr",
          "text": [
            "100%|██████████| 544/544 [00:06<00:00, 88.67it/s]\n"
          ]
        },
        {
          "output_type": "stream",
          "name": "stdout",
          "text": [
            "Train loss: 3.378267 | Train accuracy: 0.034802\n"
          ]
        },
        {
          "output_type": "stream",
          "name": "stderr",
          "text": [
            "100%|██████████| 68/68 [00:00<00:00, 106.40it/s]\n"
          ]
        },
        {
          "output_type": "stream",
          "name": "stdout",
          "text": [
            "Val loss:   3.376261 | Val accuracy:   0.039896\n",
            "-------------\n",
            "Epoch 6:\n",
            "\n"
          ]
        },
        {
          "output_type": "stream",
          "name": "stderr",
          "text": [
            "100%|██████████| 544/544 [00:06<00:00, 86.30it/s]\n"
          ]
        },
        {
          "output_type": "stream",
          "name": "stdout",
          "text": [
            "Train loss: 3.378267 | Train accuracy: 0.034802\n"
          ]
        },
        {
          "output_type": "stream",
          "name": "stderr",
          "text": [
            "100%|██████████| 68/68 [00:00<00:00, 131.64it/s]\n"
          ]
        },
        {
          "output_type": "stream",
          "name": "stdout",
          "text": [
            "Val loss:   3.376261 | Val accuracy:   0.039896\n",
            "-------------\n",
            "Epoch 7:\n",
            "\n"
          ]
        },
        {
          "output_type": "stream",
          "name": "stderr",
          "text": [
            "100%|██████████| 544/544 [00:06<00:00, 90.42it/s]\n"
          ]
        },
        {
          "output_type": "stream",
          "name": "stdout",
          "text": [
            "Train loss: 3.378268 | Train accuracy: 0.034802\n"
          ]
        },
        {
          "output_type": "stream",
          "name": "stderr",
          "text": [
            "100%|██████████| 68/68 [00:00<00:00, 131.54it/s]\n"
          ]
        },
        {
          "output_type": "stream",
          "name": "stdout",
          "text": [
            "Val loss:   3.376261 | Val accuracy:   0.039896\n",
            "-------------\n",
            "Epoch 8:\n",
            "\n"
          ]
        },
        {
          "output_type": "stream",
          "name": "stderr",
          "text": [
            "100%|██████████| 544/544 [00:05<00:00, 90.84it/s]\n"
          ]
        },
        {
          "output_type": "stream",
          "name": "stdout",
          "text": [
            "Train loss: 3.378268 | Train accuracy: 0.034802\n"
          ]
        },
        {
          "output_type": "stream",
          "name": "stderr",
          "text": [
            "100%|██████████| 68/68 [00:00<00:00, 133.65it/s]\n"
          ]
        },
        {
          "output_type": "stream",
          "name": "stdout",
          "text": [
            "Val loss:   3.376261 | Val accuracy:   0.039896\n",
            "-------------\n",
            "Epoch 9:\n",
            "\n"
          ]
        },
        {
          "output_type": "stream",
          "name": "stderr",
          "text": [
            "100%|██████████| 544/544 [00:05<00:00, 91.06it/s]\n"
          ]
        },
        {
          "output_type": "stream",
          "name": "stdout",
          "text": [
            "Train loss: 3.378268 | Train accuracy: 0.034845\n"
          ]
        },
        {
          "output_type": "stream",
          "name": "stderr",
          "text": [
            "100%|██████████| 68/68 [00:00<00:00, 132.30it/s]\n"
          ]
        },
        {
          "output_type": "stream",
          "name": "stdout",
          "text": [
            "Val loss:   3.376261 | Val accuracy:   0.039896\n",
            "-------------\n",
            "Epoch 10:\n",
            "\n"
          ]
        },
        {
          "output_type": "stream",
          "name": "stderr",
          "text": [
            "100%|██████████| 544/544 [00:05<00:00, 91.48it/s]\n"
          ]
        },
        {
          "output_type": "stream",
          "name": "stdout",
          "text": [
            "Train loss: 3.378268 | Train accuracy: 0.034845\n"
          ]
        },
        {
          "output_type": "stream",
          "name": "stderr",
          "text": [
            "100%|██████████| 68/68 [00:00<00:00, 130.98it/s]\n"
          ]
        },
        {
          "output_type": "stream",
          "name": "stdout",
          "text": [
            "Val loss:   3.376261 | Val accuracy:   0.039896\n"
          ]
        },
        {
          "output_type": "execute_result",
          "data": {
            "text/plain": [
              "0.039896376897533205"
            ]
          },
          "metadata": {},
          "execution_count": 94
        }
      ]
    },
    {
      "cell_type": "code",
      "source": [
        "lr=0.001\n",
        "momentum=0\n",
        "train_model(ds_train, ds_val, model, lr=lr, momentum=momentum)"
      ],
      "metadata": {
        "colab": {
          "base_uri": "https://localhost:8080/"
        },
        "id": "Nj49NZtSi9NQ",
        "outputId": "2b9a2a90-0123-43a6-8521-531226a45a29"
      },
      "execution_count": 95,
      "outputs": [
        {
          "output_type": "stream",
          "name": "stdout",
          "text": [
            "-------------\n",
            "Epoch 1:\n",
            "\n"
          ]
        },
        {
          "output_type": "stream",
          "name": "stderr",
          "text": [
            "100%|██████████| 544/544 [00:06<00:00, 84.96it/s]\n"
          ]
        },
        {
          "output_type": "stream",
          "name": "stdout",
          "text": [
            "Train loss: 3.372267 | Train accuracy: 0.033969\n"
          ]
        },
        {
          "output_type": "stream",
          "name": "stderr",
          "text": [
            "100%|██████████| 68/68 [00:00<00:00, 131.74it/s]\n"
          ]
        },
        {
          "output_type": "stream",
          "name": "stdout",
          "text": [
            "Val loss:   3.368004 | Val accuracy:   0.039896\n",
            "-------------\n",
            "Epoch 2:\n",
            "\n"
          ]
        },
        {
          "output_type": "stream",
          "name": "stderr",
          "text": [
            "100%|██████████| 544/544 [00:05<00:00, 90.84it/s]\n"
          ]
        },
        {
          "output_type": "stream",
          "name": "stdout",
          "text": [
            "Train loss: 3.368065 | Train accuracy: 0.034228\n"
          ]
        },
        {
          "output_type": "stream",
          "name": "stderr",
          "text": [
            "100%|██████████| 68/68 [00:00<00:00, 132.78it/s]\n"
          ]
        },
        {
          "output_type": "stream",
          "name": "stdout",
          "text": [
            "Val loss:   3.367447 | Val accuracy:   0.031947\n",
            "-------------\n",
            "Epoch 3:\n",
            "\n"
          ]
        },
        {
          "output_type": "stream",
          "name": "stderr",
          "text": [
            "100%|██████████| 544/544 [00:06<00:00, 90.25it/s]\n"
          ]
        },
        {
          "output_type": "stream",
          "name": "stdout",
          "text": [
            "Train loss: 3.367554 | Train accuracy: 0.033452\n"
          ]
        },
        {
          "output_type": "stream",
          "name": "stderr",
          "text": [
            "100%|██████████| 68/68 [00:00<00:00, 134.70it/s]\n"
          ]
        },
        {
          "output_type": "stream",
          "name": "stdout",
          "text": [
            "Val loss:   3.367522 | Val accuracy:   0.031947\n",
            "-------------\n",
            "Epoch 4:\n",
            "\n"
          ]
        },
        {
          "output_type": "stream",
          "name": "stderr",
          "text": [
            "100%|██████████| 544/544 [00:06<00:00, 90.24it/s]\n"
          ]
        },
        {
          "output_type": "stream",
          "name": "stdout",
          "text": [
            "Train loss: 3.367492 | Train accuracy: 0.034070\n"
          ]
        },
        {
          "output_type": "stream",
          "name": "stderr",
          "text": [
            "100%|██████████| 68/68 [00:00<00:00, 137.09it/s]\n"
          ]
        },
        {
          "output_type": "stream",
          "name": "stdout",
          "text": [
            "Val loss:   3.367570 | Val accuracy:   0.031947\n",
            "-------------\n",
            "Epoch 5:\n",
            "\n"
          ]
        },
        {
          "output_type": "stream",
          "name": "stderr",
          "text": [
            "100%|██████████| 544/544 [00:06<00:00, 90.09it/s]\n"
          ]
        },
        {
          "output_type": "stream",
          "name": "stdout",
          "text": [
            "Train loss: 3.367483 | Train accuracy: 0.033854\n"
          ]
        },
        {
          "output_type": "stream",
          "name": "stderr",
          "text": [
            "100%|██████████| 68/68 [00:00<00:00, 133.02it/s]\n"
          ]
        },
        {
          "output_type": "stream",
          "name": "stdout",
          "text": [
            "Val loss:   3.367586 | Val accuracy:   0.031947\n",
            "-------------\n",
            "Epoch 6:\n",
            "\n"
          ]
        },
        {
          "output_type": "stream",
          "name": "stderr",
          "text": [
            "100%|██████████| 544/544 [00:06<00:00, 90.08it/s]\n"
          ]
        },
        {
          "output_type": "stream",
          "name": "stdout",
          "text": [
            "Train loss: 3.367481 | Train accuracy: 0.033581\n"
          ]
        },
        {
          "output_type": "stream",
          "name": "stderr",
          "text": [
            "100%|██████████| 68/68 [00:00<00:00, 134.82it/s]\n"
          ]
        },
        {
          "output_type": "stream",
          "name": "stdout",
          "text": [
            "Val loss:   3.367591 | Val accuracy:   0.031947\n",
            "-------------\n",
            "Epoch 7:\n",
            "\n"
          ]
        },
        {
          "output_type": "stream",
          "name": "stderr",
          "text": [
            "100%|██████████| 544/544 [00:06<00:00, 90.62it/s]\n"
          ]
        },
        {
          "output_type": "stream",
          "name": "stdout",
          "text": [
            "Train loss: 3.367481 | Train accuracy: 0.033567\n"
          ]
        },
        {
          "output_type": "stream",
          "name": "stderr",
          "text": [
            "100%|██████████| 68/68 [00:00<00:00, 134.01it/s]\n"
          ]
        },
        {
          "output_type": "stream",
          "name": "stdout",
          "text": [
            "Val loss:   3.367593 | Val accuracy:   0.031947\n",
            "-------------\n",
            "Epoch 8:\n",
            "\n"
          ]
        },
        {
          "output_type": "stream",
          "name": "stderr",
          "text": [
            "100%|██████████| 544/544 [00:05<00:00, 90.84it/s]\n"
          ]
        },
        {
          "output_type": "stream",
          "name": "stdout",
          "text": [
            "Train loss: 3.367481 | Train accuracy: 0.033462\n"
          ]
        },
        {
          "output_type": "stream",
          "name": "stderr",
          "text": [
            "100%|██████████| 68/68 [00:00<00:00, 135.11it/s]\n"
          ]
        },
        {
          "output_type": "stream",
          "name": "stdout",
          "text": [
            "Val loss:   3.367593 | Val accuracy:   0.031947\n",
            "-------------\n",
            "Epoch 9:\n",
            "\n"
          ]
        },
        {
          "output_type": "stream",
          "name": "stderr",
          "text": [
            "100%|██████████| 544/544 [00:05<00:00, 91.05it/s]\n"
          ]
        },
        {
          "output_type": "stream",
          "name": "stdout",
          "text": [
            "Train loss: 3.367481 | Train accuracy: 0.033462\n"
          ]
        },
        {
          "output_type": "stream",
          "name": "stderr",
          "text": [
            "100%|██████████| 68/68 [00:00<00:00, 134.13it/s]\n"
          ]
        },
        {
          "output_type": "stream",
          "name": "stdout",
          "text": [
            "Val loss:   3.367594 | Val accuracy:   0.031947\n",
            "-------------\n",
            "Epoch 10:\n",
            "\n"
          ]
        },
        {
          "output_type": "stream",
          "name": "stderr",
          "text": [
            "100%|██████████| 544/544 [00:05<00:00, 91.08it/s]\n"
          ]
        },
        {
          "output_type": "stream",
          "name": "stdout",
          "text": [
            "Train loss: 3.367481 | Train accuracy: 0.033462\n"
          ]
        },
        {
          "output_type": "stream",
          "name": "stderr",
          "text": [
            "100%|██████████| 68/68 [00:00<00:00, 133.00it/s]\n"
          ]
        },
        {
          "output_type": "stream",
          "name": "stdout",
          "text": [
            "Val loss:   3.367594 | Val accuracy:   0.031947\n"
          ]
        },
        {
          "output_type": "execute_result",
          "data": {
            "text/plain": [
              "0.0319467504743833"
            ]
          },
          "metadata": {},
          "execution_count": 95
        }
      ]
    }
  ]
}